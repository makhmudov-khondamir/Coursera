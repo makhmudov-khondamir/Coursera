{
 "cells": [
  {
   "cell_type": "markdown",
   "id": "40ae202a-b4ab-4b6d-b74f-a07f175b8b54",
   "metadata": {},
   "source": [
    "# Data Science Tools and Ecosystem\r\n"
   ]
  },
  {
   "cell_type": "markdown",
   "id": "c1d0fcd6-50a9-4f1b-bee5-447b27331fb6",
   "metadata": {},
   "source": [
    "In this notebook, Data Science Tools and Ecosystem are summarized.\r\n"
   ]
  },
  {
   "cell_type": "markdown",
   "id": "8e877989-e3c5-494e-8eb4-23e76678c579",
   "metadata": {},
   "source": [
    "Some of the popular languages that Data Scientists use are:\r",
    "1. Python\r\n",
    "2. R\r\n",
    "3. Julia\r\n",
    "\n"
   ]
  },
  {
   "cell_type": "markdown",
   "id": "18bf39c3-84e1-476a-91d5-23ae00d2c86a",
   "metadata": {},
   "source": [
    "Some of the commonly used libraries used by Data Scientists include:\n",
    "1. Pandas\n",
    "2. NumPy\n",
    "3. Scikit-learn\n"
   ]
  },
  {
   "cell_type": "markdown",
   "id": "c6830f73-ab17-4ea4-a982-64522da96c3d",
   "metadata": {},
   "source": [
    "| Data Science Tools |\r\n",
    "|--------------------|\r\n",
    "| Jupyter Notebook   |\r\n",
    "| RStudio            |\r\n",
    "| Apache Zeppelin    |\r\n"
   ]
  },
  {
   "cell_type": "markdown",
   "id": "45a6a8dd-f5cf-4ad2-a9ad-635b84fe778b",
   "metadata": {},
   "source": [
    "### Below are a few examples of evaluating arithmetic expressions in Python.\r\n"
   ]
  },
  {
   "cell_type": "code",
   "execution_count": 6,
   "id": "c92f6799-b599-44ab-aaa6-0f12856f8472",
   "metadata": {},
   "outputs": [
    {
     "data": {
      "text/plain": [
       "17"
      ]
     },
     "execution_count": 6,
     "metadata": {},
     "output_type": "execute_result"
    }
   ],
   "source": [
    "# This is a simple arithmetic expression to multiply then add integers.\n",
    "(3 * 4) + 5\n"
   ]
  },
  {
   "cell_type": "code",
   "execution_count": 7,
   "id": "633cfb66-abc0-44e6-b680-8d698fc3ab00",
   "metadata": {},
   "outputs": [
    {
     "data": {
      "text/plain": [
       "3.3333333333333335"
      ]
     },
     "execution_count": 7,
     "metadata": {},
     "output_type": "execute_result"
    }
   ],
   "source": [
    "# This will convert 200 minutes to hours by dividing by 60.\n",
    "200 / 60\n"
   ]
  },
  {
   "cell_type": "markdown",
   "id": "609bdeb0-db87-4d35-a652-3744095a7b40",
   "metadata": {},
   "source": [
    "**Objectives:**\r\n",
    "- List popular languages for Data Science\r\n",
    "- Describe commonly used libraries in Data Science\r\n",
    "- Provide examples of arithmetic operations in Python\r\n"
   ]
  },
  {
   "cell_type": "markdown",
   "id": "abcd92d8-86e6-4b3f-9b49-c9acbe3bbf79",
   "metadata": {},
   "source": [
    "## Author\r",
    "Khondamir Makhmudove\r\n"
   ]
  },
  {
   "cell_type": "code",
   "execution_count": null,
   "id": "1aa0166a-cbf4-4c63-9cb5-180adeba4dbc",
   "metadata": {},
   "outputs": [],
   "source": []
  }
 ],
 "metadata": {
  "kernelspec": {
   "display_name": "Python 3 (ipykernel)",
   "language": "python",
   "name": "python3"
  },
  "language_info": {
   "codemirror_mode": {
    "name": "ipython",
    "version": 3
   },
   "file_extension": ".py",
   "mimetype": "text/x-python",
   "name": "python",
   "nbconvert_exporter": "python",
   "pygments_lexer": "ipython3",
   "version": "3.12.3"
  }
 },
 "nbformat": 4,
 "nbformat_minor": 5
}
